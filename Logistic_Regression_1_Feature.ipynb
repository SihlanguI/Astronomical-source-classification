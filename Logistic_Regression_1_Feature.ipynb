{
 "cells": [
  {
   "cell_type": "code",
   "execution_count": 1,
   "metadata": {},
   "outputs": [
    {
     "name": "stdout",
     "output_type": "stream",
     "text": [
      "Populating the interactive namespace from numpy and matplotlib\n"
     ]
    }
   ],
   "source": [
    "from __future__ import division\n",
    "from additions import contour_plot, training_plots, accuracy, ROC\n",
    "import pandas as pd\n",
    "%pylab inline"
   ]
  },
  {
   "cell_type": "markdown",
   "metadata": {},
   "source": [
    "## Read in the training data"
   ]
  },
  {
   "cell_type": "code",
   "execution_count": 2,
   "metadata": {},
   "outputs": [],
   "source": [
    "df_train = pd.read_csv(\"train_normalized.csv\")"
   ]
  },
  {
   "cell_type": "code",
   "execution_count": 3,
   "metadata": {},
   "outputs": [],
   "source": [
    "x_train = df_train[[\"period_SNR\"]].values\n",
    "y_train = df_train[\"class\"].values"
   ]
  },
  {
   "cell_type": "markdown",
   "metadata": {},
   "source": [
    "## Create the sigmoid function by filling in the gaps"
   ]
  },
  {
   "cell_type": "code",
   "execution_count": 4,
   "metadata": {},
   "outputs": [
    {
     "ename": "SyntaxError",
     "evalue": "invalid syntax (<ipython-input-4-50c8b2dcde4b>, line 4)",
     "output_type": "error",
     "traceback": [
      "\u001b[0;36m  File \u001b[0;32m\"<ipython-input-4-50c8b2dcde4b>\"\u001b[0;36m, line \u001b[0;32m4\u001b[0m\n\u001b[0;31m    sig = # Fill in here\u001b[0m\n\u001b[0m                        ^\u001b[0m\n\u001b[0;31mSyntaxError\u001b[0m\u001b[0;31m:\u001b[0m invalid syntax\n"
     ]
    }
   ],
   "source": [
    "def sigmoid(z):\n",
    "#     Calculate the sigmoid of the argument z and return it\n",
    "    \n",
    "    sig = # Fill in here\n",
    "    \n",
    "    return sig"
   ]
  },
  {
   "cell_type": "markdown",
   "metadata": {},
   "source": [
    "### Run the cell below to get the answer"
   ]
  },
  {
   "cell_type": "code",
   "execution_count": 5,
   "metadata": {},
   "outputs": [],
   "source": [
    "# %load solutions/sigmoid.py\n",
    "def sigmoid(z):\n",
    "#     Calculate the sigmoid of the argument z and return it\n",
    "    sig = 1./(1+np.exp(-z))\n",
    "    return sig\n"
   ]
  },
  {
   "cell_type": "markdown",
   "metadata": {},
   "source": [
    "## Create the cost function by filling in the gaps"
   ]
  },
  {
   "cell_type": "code",
   "execution_count": 6,
   "metadata": {},
   "outputs": [
    {
     "ename": "SyntaxError",
     "evalue": "invalid syntax (<ipython-input-6-048002a39f07>, line 4)",
     "output_type": "error",
     "traceback": [
      "\u001b[0;36m  File \u001b[0;32m\"<ipython-input-6-048002a39f07>\"\u001b[0;36m, line \u001b[0;32m4\u001b[0m\n\u001b[0;31m    z = # Fill in here\u001b[0m\n\u001b[0m                      ^\u001b[0m\n\u001b[0;31mSyntaxError\u001b[0m\u001b[0;31m:\u001b[0m invalid syntax\n"
     ]
    }
   ],
   "source": [
    "def cost(y, x, W, b):\n",
    "#     Calculate the argument of the sigmoid\n",
    "    \n",
    "    z = # Fill in here\n",
    "    \n",
    "#     Calculate the cost and return it\n",
    "    \n",
    "    C = # Fill in here\n",
    "    \n",
    "    return C"
   ]
  },
  {
   "cell_type": "markdown",
   "metadata": {},
   "source": [
    "### Run the cell below to get the answer"
   ]
  },
  {
   "cell_type": "code",
   "execution_count": 7,
   "metadata": {},
   "outputs": [],
   "source": [
    "# %load solutions/cost.py\n",
    "def cost(y, x, W, b):\n",
    "#     Calculate the argument of the sigmoid\n",
    "    z = np.dot(x, W) + b\n",
    "    \n",
    "#     Calculate the cost and return it\n",
    "    C = -np.sum(y*np.log(sigmoid(z)) + (1-y)*np.log(1-sigmoid(z)))/len(y)\n",
    "    \n",
    "    return C\n"
   ]
  },
  {
   "cell_type": "markdown",
   "metadata": {},
   "source": [
    "## Create the cost gradient function by filling in the gaps "
   ]
  },
  {
   "cell_type": "code",
   "execution_count": 8,
   "metadata": {},
   "outputs": [
    {
     "ename": "SyntaxError",
     "evalue": "invalid syntax (<ipython-input-8-b67115a327d8>, line 4)",
     "output_type": "error",
     "traceback": [
      "\u001b[0;36m  File \u001b[0;32m\"<ipython-input-8-b67115a327d8>\"\u001b[0;36m, line \u001b[0;32m4\u001b[0m\n\u001b[0;31m    z = # Fill in here\u001b[0m\n\u001b[0m                      ^\u001b[0m\n\u001b[0;31mSyntaxError\u001b[0m\u001b[0;31m:\u001b[0m invalid syntax\n"
     ]
    }
   ],
   "source": [
    "def cost_gradient(y, x, W, b):\n",
    "#     Calculate the the argument of sigmoid\n",
    "\n",
    "    z = # Fill in here\n",
    "    \n",
    "#     Calculate the derivative of the cost function wrt z\n",
    "\n",
    "    DcDz = # Fill in here\n",
    "    \n",
    "#     Calculate the derivatives wrt each parameter\n",
    "\n",
    "    DcDW = # Fill in here\n",
    "    DcDb = # Fill in here\n",
    "    \n",
    "    return DcDW, DcDb"
   ]
  },
  {
   "cell_type": "markdown",
   "metadata": {},
   "source": [
    "### Run the cell below to get the answer"
   ]
  },
  {
   "cell_type": "code",
   "execution_count": 9,
   "metadata": {},
   "outputs": [],
   "source": [
    "# %load solutions/cost_gradient.py\n",
    "def cost_gradient(y, x, W, b):\n",
    "#     Calculate the the argument of sigmoid\n",
    "    z = np.dot(x, W) + b\n",
    "#     Calculate the derivative of the cost function wrt z\n",
    "    DcDz = y-sigmoid(z)\n",
    "#     Calculate the derivatives wrt each parameter\n",
    "    DcDW = -np.dot(DcDz, x)/len(y)\n",
    "    DcDb = -np.sum(DcDz)/len(y)\n",
    "    \n",
    "    return DcDW, DcDb\n"
   ]
  },
  {
   "cell_type": "markdown",
   "metadata": {},
   "source": [
    "## Create the gradient descent function by filling in the gaps"
   ]
  },
  {
   "cell_type": "code",
   "execution_count": 10,
   "metadata": {},
   "outputs": [
    {
     "ename": "SyntaxError",
     "evalue": "invalid syntax (<ipython-input-10-2f2ad9b693bc>, line 4)",
     "output_type": "error",
     "traceback": [
      "\u001b[0;36m  File \u001b[0;32m\"<ipython-input-10-2f2ad9b693bc>\"\u001b[0;36m, line \u001b[0;32m4\u001b[0m\n\u001b[0;31m    W = # Fill in here\u001b[0m\n\u001b[0m                      ^\u001b[0m\n\u001b[0;31mSyntaxError\u001b[0m\u001b[0;31m:\u001b[0m invalid syntax\n"
     ]
    }
   ],
   "source": [
    "def gradient_descent(y, x, Wi, bi, alpha, steps):\n",
    "#     Create arrays for the weights, bias and cost\n",
    "\n",
    "    W = # Fill in here\n",
    "    b = # Fill in here\n",
    "    C = # Fill in here\n",
    "    \n",
    "#   Populate the first entry for each array  \n",
    "\n",
    "    W[0] = # Fill in here\n",
    "    b[0] = # Fill in here\n",
    "    C[0] = # Fill in here\n",
    "    \n",
    "#     Perform gradient descent\n",
    "    for i in range(steps):\n",
    "        DW, Db = # Fill in here\n",
    "        \n",
    "        W[i+1] = # Fill in here\n",
    "        b[i+1] = # Fill in here\n",
    "        \n",
    "        C[i+1] = # Fill in here\n",
    "        \n",
    "    return W, b, C"
   ]
  },
  {
   "cell_type": "markdown",
   "metadata": {},
   "source": [
    "### Run the cell below to get the answer"
   ]
  },
  {
   "cell_type": "code",
   "execution_count": 11,
   "metadata": {},
   "outputs": [],
   "source": [
    "# %load solutions/gradient_descent\n",
    "def gradient_descent(y, x, Wi, bi, alpha, steps):\n",
    "#     Create arrays for the weights, bias and cost\n",
    "    W = np.zeros((steps+1, len(Wi)))\n",
    "    b = np.zeros(steps+1)\n",
    "    C = np.zeros(steps+1)\n",
    "    \n",
    "#   Populate the first entry for each array  \n",
    "    W[0] = Wi\n",
    "    b[0] = bi\n",
    "    C[0] = cost(y, x, Wi, bi)\n",
    "    \n",
    "#     Perform gradient descent\n",
    "    for i in range(steps):\n",
    "        DW, Db = cost_gradient(y, x, W[i], b[i])\n",
    "        \n",
    "        W[i+1] = W[i] - alpha*DW\n",
    "        b[i+1] = b[i] - alpha*Db\n",
    "        \n",
    "        C[i+1] = cost(y, x, W[i+1], b[i+1])\n",
    "        \n",
    "    return W, b, C\n"
   ]
  },
  {
   "cell_type": "markdown",
   "metadata": {},
   "source": [
    "## Now let's initialize our parameters"
   ]
  },
  {
   "cell_type": "code",
   "execution_count": 12,
   "metadata": {},
   "outputs": [],
   "source": [
    "np.random.seed(1234)\n",
    "Wi = np.random.randn(x_train.shape[1])\n",
    "bi = np.random.randn(1)"
   ]
  },
  {
   "cell_type": "markdown",
   "metadata": {},
   "source": [
    "## Now let's run the gradient descent algorithm"
   ]
  },
  {
   "cell_type": "code",
   "execution_count": 13,
   "metadata": {},
   "outputs": [],
   "source": [
    "W, b, C = gradient_descent(y_train, x_train, Wi, bi, alpha=10e-1, steps=100)"
   ]
  },
  {
   "cell_type": "markdown",
   "metadata": {},
   "source": [
    "## Check out the how the paramters and cost have evolved"
   ]
  },
  {
   "cell_type": "code",
   "execution_count": 14,
   "metadata": {},
   "outputs": [
    {
     "data": {
      "image/png": "[encoded data removed]",
      "text/plain": [
       "<Figure size 1080x360 with 3 Axes>"
      ]
     },
     "metadata": {},
     "output_type": "display_data"
    }
   ],
   "source": [
    "training_plots(W, b, C)"
   ]
  },
  {
   "cell_type": "markdown",
   "metadata": {},
   "source": [
    "## We can see the path taken by gradient descent nicely on a contour plot of the cost function"
   ]
  },
  {
   "cell_type": "code",
   "execution_count": 15,
   "metadata": {},
   "outputs": [
    {
     "data": {
      "image/png": "[encoded data removed]",
      "text/plain": [
       "<Figure size 432x288 with 2 Axes>"
      ]
     },
     "metadata": {},
     "output_type": "display_data"
    }
   ],
   "source": [
    "contour_plot(y_train, x_train, W, b);"
   ]
  },
  {
   "cell_type": "markdown",
   "metadata": {},
   "source": [
    "# Now time to test your classifier"
   ]
  },
  {
   "cell_type": "markdown",
   "metadata": {},
   "source": [
    "## Load in the test data"
   ]
  },
  {
   "cell_type": "code",
   "execution_count": 16,
   "metadata": {},
   "outputs": [],
   "source": [
    "df_test = pd.read_csv(\"test_normalized.csv\")"
   ]
  },
  {
   "cell_type": "code",
   "execution_count": 17,
   "metadata": {},
   "outputs": [],
   "source": [
    "x_test = df_test[[\"period_SNR\"]].values\n",
    "y_test = df_test[\"class\"].values.astype(int)"
   ]
  },
  {
   "cell_type": "code",
   "execution_count": 18,
   "metadata": {},
   "outputs": [
    {
     "name": "stdout",
     "output_type": "stream",
     "text": [
      "93.3920704845815\n"
     ]
    }
   ],
   "source": [
    "acc, pred = accuracy(y_test, x_test, W[-1], b[-1], threshold=0.5)\n",
    "print(acc)"
   ]
  },
  {
   "cell_type": "code",
   "execution_count": 20,
   "metadata": {},
   "outputs": [
    {
     "data": {
      "image/png": "[encoded data removed]",
      "text/plain": [
       "<Figure size 432x288 with 1 Axes>"
      ]
     },
     "metadata": {},
     "output_type": "display_data"
    }
   ],
   "source": [
    "ROC(y_test, x_test, W[-1], b[-1]);"
   ]
  },
  {
   "cell_type": "code",
   "execution_count": null,
   "metadata": {},
   "outputs": [],
   "source": []
  }
 ],
 "metadata": {
  "kernelspec": {
   "display_name": "Python 2",
   "language": "python",
   "name": "python2"
  },
  "language_info": {
   "codemirror_mode": {
    "name": "ipython",
    "version": 2
   },
   "file_extension": ".py",
   "mimetype": "text/x-python",
   "name": "python",
   "nbconvert_exporter": "python",
   "pygments_lexer": "ipython2",
   "version": "2.7.12"
  }
 },
 "nbformat": 4,
 "nbformat_minor": 2
}
